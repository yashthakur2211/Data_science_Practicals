{
 "cells": [
  {
   "cell_type": "code",
   "execution_count": null,
   "id": "f327f4d4",
   "metadata": {},
   "outputs": [],
   "source": [
    "# Name Yash Thakur\n",
    "# Roll No. B - 75\n",
    "# DS - Assignment - 2"
   ]
  },
  {
   "cell_type": "code",
   "execution_count": 1,
   "id": "2aaa8570",
   "metadata": {},
   "outputs": [
    {
     "data": {
      "text/html": [
       "<div>\n",
       "<style scoped>\n",
       "    .dataframe tbody tr th:only-of-type {\n",
       "        vertical-align: middle;\n",
       "    }\n",
       "\n",
       "    .dataframe tbody tr th {\n",
       "        vertical-align: top;\n",
       "    }\n",
       "\n",
       "    .dataframe thead th {\n",
       "        text-align: right;\n",
       "    }\n",
       "</style>\n",
       "<table border=\"1\" class=\"dataframe\">\n",
       "  <thead>\n",
       "    <tr style=\"text-align: right;\">\n",
       "      <th></th>\n",
       "      <th>id</th>\n",
       "      <th>first_name</th>\n",
       "      <th>email</th>\n",
       "      <th>gender</th>\n",
       "      <th>attendance</th>\n",
       "      <th>gpa</th>\n",
       "      <th>age</th>\n",
       "    </tr>\n",
       "  </thead>\n",
       "  <tbody>\n",
       "    <tr>\n",
       "      <th>0</th>\n",
       "      <td>1</td>\n",
       "      <td>Norby</td>\n",
       "      <td>nmagarrell0@opensource.org</td>\n",
       "      <td>female</td>\n",
       "      <td>65</td>\n",
       "      <td>7</td>\n",
       "      <td>21.0</td>\n",
       "    </tr>\n",
       "    <tr>\n",
       "      <th>1</th>\n",
       "      <td>2</td>\n",
       "      <td>Nickolas</td>\n",
       "      <td>nhaldane1@state.gov</td>\n",
       "      <td>male</td>\n",
       "      <td>37</td>\n",
       "      <td>10</td>\n",
       "      <td>23.0</td>\n",
       "    </tr>\n",
       "    <tr>\n",
       "      <th>2</th>\n",
       "      <td>3</td>\n",
       "      <td>Staci</td>\n",
       "      <td>sjurczik2@altervista.org</td>\n",
       "      <td>female</td>\n",
       "      <td>68</td>\n",
       "      <td>4</td>\n",
       "      <td>25.0</td>\n",
       "    </tr>\n",
       "    <tr>\n",
       "      <th>3</th>\n",
       "      <td>4</td>\n",
       "      <td>Elianora</td>\n",
       "      <td>eriguard3@indiegogo.com</td>\n",
       "      <td>female</td>\n",
       "      <td>99</td>\n",
       "      <td>4</td>\n",
       "      <td>18.0</td>\n",
       "    </tr>\n",
       "    <tr>\n",
       "      <th>4</th>\n",
       "      <td>5</td>\n",
       "      <td>Anthe</td>\n",
       "      <td>aphythian4@huffingtonpost.com</td>\n",
       "      <td>female</td>\n",
       "      <td>46</td>\n",
       "      <td>8</td>\n",
       "      <td>19.0</td>\n",
       "    </tr>\n",
       "    <tr>\n",
       "      <th>...</th>\n",
       "      <td>...</td>\n",
       "      <td>...</td>\n",
       "      <td>...</td>\n",
       "      <td>...</td>\n",
       "      <td>...</td>\n",
       "      <td>...</td>\n",
       "      <td>...</td>\n",
       "    </tr>\n",
       "    <tr>\n",
       "      <th>95</th>\n",
       "      <td>96</td>\n",
       "      <td>Aryn</td>\n",
       "      <td>avictor2n@umich.edu</td>\n",
       "      <td>female</td>\n",
       "      <td>64</td>\n",
       "      <td>8</td>\n",
       "      <td>19.0</td>\n",
       "    </tr>\n",
       "    <tr>\n",
       "      <th>96</th>\n",
       "      <td>97</td>\n",
       "      <td>Antonie</td>\n",
       "      <td>arottgers2o@joomla.org</td>\n",
       "      <td>male</td>\n",
       "      <td>65</td>\n",
       "      <td>7</td>\n",
       "      <td>18.0</td>\n",
       "    </tr>\n",
       "    <tr>\n",
       "      <th>97</th>\n",
       "      <td>98</td>\n",
       "      <td>Davy</td>\n",
       "      <td>dfortin2p@simplemachines.org</td>\n",
       "      <td>female</td>\n",
       "      <td>85</td>\n",
       "      <td>4</td>\n",
       "      <td>NaN</td>\n",
       "    </tr>\n",
       "    <tr>\n",
       "      <th>98</th>\n",
       "      <td>99</td>\n",
       "      <td>Ikey</td>\n",
       "      <td>iconcklin2q@de.vu</td>\n",
       "      <td>male</td>\n",
       "      <td>49</td>\n",
       "      <td>4</td>\n",
       "      <td>18.0</td>\n",
       "    </tr>\n",
       "    <tr>\n",
       "      <th>99</th>\n",
       "      <td>100</td>\n",
       "      <td>Chip</td>\n",
       "      <td>cklousner2r@xinhuanet.com</td>\n",
       "      <td>male</td>\n",
       "      <td>95</td>\n",
       "      <td>9</td>\n",
       "      <td>20.0</td>\n",
       "    </tr>\n",
       "  </tbody>\n",
       "</table>\n",
       "<p>100 rows × 7 columns</p>\n",
       "</div>"
      ],
      "text/plain": [
       "     id first_name                          email  gender  attendance  gpa  \\\n",
       "0     1      Norby     nmagarrell0@opensource.org  female          65    7   \n",
       "1     2   Nickolas            nhaldane1@state.gov    male          37   10   \n",
       "2     3      Staci       sjurczik2@altervista.org  female          68    4   \n",
       "3     4   Elianora        eriguard3@indiegogo.com  female          99    4   \n",
       "4     5      Anthe  aphythian4@huffingtonpost.com  female          46    8   \n",
       "..  ...        ...                            ...     ...         ...  ...   \n",
       "95   96       Aryn            avictor2n@umich.edu  female          64    8   \n",
       "96   97    Antonie         arottgers2o@joomla.org    male          65    7   \n",
       "97   98       Davy   dfortin2p@simplemachines.org  female          85    4   \n",
       "98   99       Ikey              iconcklin2q@de.vu    male          49    4   \n",
       "99  100       Chip      cklousner2r@xinhuanet.com    male          95    9   \n",
       "\n",
       "     age  \n",
       "0   21.0  \n",
       "1   23.0  \n",
       "2   25.0  \n",
       "3   18.0  \n",
       "4   19.0  \n",
       "..   ...  \n",
       "95  19.0  \n",
       "96  18.0  \n",
       "97   NaN  \n",
       "98  18.0  \n",
       "99  20.0  \n",
       "\n",
       "[100 rows x 7 columns]"
      ]
     },
     "execution_count": 1,
     "metadata": {},
     "output_type": "execute_result"
    }
   ],
   "source": [
    "import pandas as pd\n",
    "data = pd.read_csv('MOCK_DATA.csv')\n",
    "data"
   ]
  },
  {
   "cell_type": "code",
   "execution_count": 2,
   "id": "0159ab8c",
   "metadata": {},
   "outputs": [
    {
     "data": {
      "text/plain": [
       "12"
      ]
     },
     "execution_count": 2,
     "metadata": {},
     "output_type": "execute_result"
    }
   ],
   "source": [
    "data['age'].isnull().sum()"
   ]
  },
  {
   "cell_type": "code",
   "execution_count": 6,
   "id": "e5ab3e8e",
   "metadata": {},
   "outputs": [],
   "source": [
    "data['age']=data['age'].interpolate(limit_direction='both')"
   ]
  },
  {
   "cell_type": "code",
   "execution_count": 7,
   "id": "2cdc6d89",
   "metadata": {},
   "outputs": [
    {
     "data": {
      "text/plain": [
       "0"
      ]
     },
     "execution_count": 7,
     "metadata": {},
     "output_type": "execute_result"
    }
   ],
   "source": [
    "data['age'].isna().sum()"
   ]
  },
  {
   "cell_type": "code",
   "execution_count": 8,
   "id": "3d136ba5",
   "metadata": {},
   "outputs": [
    {
     "name": "stdout",
     "output_type": "stream",
     "text": [
      "<class 'pandas.core.frame.DataFrame'>\n",
      "RangeIndex: 100 entries, 0 to 99\n",
      "Data columns (total 7 columns):\n",
      " #   Column      Non-Null Count  Dtype  \n",
      "---  ------      --------------  -----  \n",
      " 0   id          100 non-null    int64  \n",
      " 1   first_name  100 non-null    object \n",
      " 2   email       100 non-null    object \n",
      " 3   gender      100 non-null    object \n",
      " 4   attendance  100 non-null    int64  \n",
      " 5   gpa         100 non-null    int64  \n",
      " 6   age         100 non-null    float64\n",
      "dtypes: float64(1), int64(3), object(3)\n",
      "memory usage: 5.6+ KB\n"
     ]
    }
   ],
   "source": [
    "data.info()"
   ]
  },
  {
   "cell_type": "code",
   "execution_count": 9,
   "id": "97c21201",
   "metadata": {},
   "outputs": [
    {
     "data": {
      "text/plain": [
       "id             int64\n",
       "first_name    object\n",
       "email         object\n",
       "gender        object\n",
       "attendance     int64\n",
       "gpa            int64\n",
       "age            int64\n",
       "dtype: object"
      ]
     },
     "execution_count": 9,
     "metadata": {},
     "output_type": "execute_result"
    }
   ],
   "source": [
    "data.astype({'age':'int64'}).dtypes"
   ]
  },
  {
   "cell_type": "code",
   "execution_count": 10,
   "id": "259903cc",
   "metadata": {},
   "outputs": [
    {
     "data": {
      "image/png": "[encoded data removed]",
      "text/plain": [
       "<Figure size 1000x700 with 1 Axes>"
      ]
     },
     "metadata": {},
     "output_type": "display_data"
    }
   ],
   "source": [
    "import matplotlib.pyplot as plt\n",
    "fig = plt.figure(figsize =(10, 7))\n",
    " \n",
    "# Creating plot\n",
    "plt.boxplot(data[['attendance','gpa','age']])\n",
    " \n",
    "# show plot\n",
    "plt.show()"
   ]
  },
  {
   "cell_type": "code",
   "execution_count": 11,
   "id": "89759887",
   "metadata": {},
   "outputs": [
    {
     "data": {
      "image/png": "[encoded data removed]",
      "text/plain": [
       "<Figure size 640x480 with 1 Axes>"
      ]
     },
     "metadata": {},
     "output_type": "display_data"
    }
   ],
   "source": [
    "plt.scatter(data['attendance'],data['gpa'])\n",
    "plt.show()"
   ]
  },
  {
   "cell_type": "code",
   "execution_count": 12,
   "id": "ebc783e7",
   "metadata": {},
   "outputs": [
    {
     "data": {
      "text/plain": [
       "<Axes: xlabel='age', ylabel='Density'>"
      ]
     },
     "execution_count": 12,
     "metadata": {},
     "output_type": "execute_result"
    },
    {
     "data": {
      "image/png": "[encoded data removed]",
      "text/plain": [
       "<Figure size 640x480 with 1 Axes>"
      ]
     },
     "metadata": {},
     "output_type": "display_data"
    }
   ],
   "source": [
    "import seaborn as sns\n",
    "import warnings\n",
    "warnings.filterwarnings('ignore')\n",
    "sns.distplot(data['age'])"
   ]
  }
 ],
 "metadata": {
  "kernelspec": {
   "display_name": "Python 3 (ipykernel)",
   "language": "python",
   "name": "python3"
  },
  "language_info": {
   "codemirror_mode": {
    "name": "ipython",
    "version": 3
   },
   "file_extension": ".py",
   "mimetype": "text/x-python",
   "name": "python",
   "nbconvert_exporter": "python",
   "pygments_lexer": "ipython3",
   "version": "3.8.0"
  }
 },
 "nbformat": 4,
 "nbformat_minor": 5
}
